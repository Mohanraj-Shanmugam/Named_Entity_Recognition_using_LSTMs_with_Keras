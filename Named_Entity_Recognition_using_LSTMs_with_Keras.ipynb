{
  "nbformat": 4,
  "nbformat_minor": 0,
  "metadata": {
    "colab": {
      "name": "Named Entity Recognition using LSTMs with Keras.ipynb",
      "provenance": [],
      "collapsed_sections": []
    },
    "kernelspec": {
      "name": "python3",
      "display_name": "Python 3"
    }
  },
  "cells": [
    {
      "cell_type": "code",
      "metadata": {
        "colab": {
          "base_uri": "https://localhost:8080/"
        },
        "id": "ESeLuCsDtVUm",
        "outputId": "740a6019-b646-4e34-8312-ed649fc762b3"
      },
      "source": [
        "import tensorflow as tf\r\n",
        "print('Tensorflow version: ', tf.__version__)"
      ],
      "execution_count": 1,
      "outputs": [
        {
          "output_type": "stream",
          "text": [
            "Tensorflow version:  2.4.1\n"
          ],
          "name": "stdout"
        }
      ]
    },
    {
      "cell_type": "code",
      "metadata": {
        "id": "nvT3tOktt9f8"
      },
      "source": [
        "import numpy as np\r\n",
        "import pandas as pd\r\n",
        "import matplotlib.pyplot as plt\r\n",
        "%matplotlib inline"
      ],
      "execution_count": 4,
      "outputs": []
    },
    {
      "cell_type": "markdown",
      "metadata": {
        "id": "GsoNCAFetz01"
      },
      "source": [
        "Load and explore NER data set"
      ]
    },
    {
      "cell_type": "code",
      "metadata": {
        "colab": {
          "base_uri": "https://localhost:8080/",
          "height": 639
        },
        "id": "5ioyXpoit0aO",
        "outputId": "fe7e7078-01bc-42b2-dbd0-a81d264fe99c"
      },
      "source": [
        "df = pd.read_csv('/content/drive/MyDrive/Data science/ner_dataset.csv', encoding='latin1')\r\n",
        "df = df.fillna(method='ffill')\r\n",
        "df.head(20)"
      ],
      "execution_count": 5,
      "outputs": [
        {
          "output_type": "execute_result",
          "data": {
            "text/html": [
              "<div>\n",
              "<style scoped>\n",
              "    .dataframe tbody tr th:only-of-type {\n",
              "        vertical-align: middle;\n",
              "    }\n",
              "\n",
              "    .dataframe tbody tr th {\n",
              "        vertical-align: top;\n",
              "    }\n",
              "\n",
              "    .dataframe thead th {\n",
              "        text-align: right;\n",
              "    }\n",
              "</style>\n",
              "<table border=\"1\" class=\"dataframe\">\n",
              "  <thead>\n",
              "    <tr style=\"text-align: right;\">\n",
              "      <th></th>\n",
              "      <th>Sentence #</th>\n",
              "      <th>Word</th>\n",
              "      <th>POS</th>\n",
              "      <th>Tag</th>\n",
              "    </tr>\n",
              "  </thead>\n",
              "  <tbody>\n",
              "    <tr>\n",
              "      <th>0</th>\n",
              "      <td>Sentence: 1</td>\n",
              "      <td>Thousands</td>\n",
              "      <td>NNS</td>\n",
              "      <td>O</td>\n",
              "    </tr>\n",
              "    <tr>\n",
              "      <th>1</th>\n",
              "      <td>Sentence: 1</td>\n",
              "      <td>of</td>\n",
              "      <td>IN</td>\n",
              "      <td>O</td>\n",
              "    </tr>\n",
              "    <tr>\n",
              "      <th>2</th>\n",
              "      <td>Sentence: 1</td>\n",
              "      <td>demonstrators</td>\n",
              "      <td>NNS</td>\n",
              "      <td>O</td>\n",
              "    </tr>\n",
              "    <tr>\n",
              "      <th>3</th>\n",
              "      <td>Sentence: 1</td>\n",
              "      <td>have</td>\n",
              "      <td>VBP</td>\n",
              "      <td>O</td>\n",
              "    </tr>\n",
              "    <tr>\n",
              "      <th>4</th>\n",
              "      <td>Sentence: 1</td>\n",
              "      <td>marched</td>\n",
              "      <td>VBN</td>\n",
              "      <td>O</td>\n",
              "    </tr>\n",
              "    <tr>\n",
              "      <th>5</th>\n",
              "      <td>Sentence: 1</td>\n",
              "      <td>through</td>\n",
              "      <td>IN</td>\n",
              "      <td>O</td>\n",
              "    </tr>\n",
              "    <tr>\n",
              "      <th>6</th>\n",
              "      <td>Sentence: 1</td>\n",
              "      <td>London</td>\n",
              "      <td>NNP</td>\n",
              "      <td>B-geo</td>\n",
              "    </tr>\n",
              "    <tr>\n",
              "      <th>7</th>\n",
              "      <td>Sentence: 1</td>\n",
              "      <td>to</td>\n",
              "      <td>TO</td>\n",
              "      <td>O</td>\n",
              "    </tr>\n",
              "    <tr>\n",
              "      <th>8</th>\n",
              "      <td>Sentence: 1</td>\n",
              "      <td>protest</td>\n",
              "      <td>VB</td>\n",
              "      <td>O</td>\n",
              "    </tr>\n",
              "    <tr>\n",
              "      <th>9</th>\n",
              "      <td>Sentence: 1</td>\n",
              "      <td>the</td>\n",
              "      <td>DT</td>\n",
              "      <td>O</td>\n",
              "    </tr>\n",
              "    <tr>\n",
              "      <th>10</th>\n",
              "      <td>Sentence: 1</td>\n",
              "      <td>war</td>\n",
              "      <td>NN</td>\n",
              "      <td>O</td>\n",
              "    </tr>\n",
              "    <tr>\n",
              "      <th>11</th>\n",
              "      <td>Sentence: 1</td>\n",
              "      <td>in</td>\n",
              "      <td>IN</td>\n",
              "      <td>O</td>\n",
              "    </tr>\n",
              "    <tr>\n",
              "      <th>12</th>\n",
              "      <td>Sentence: 1</td>\n",
              "      <td>Iraq</td>\n",
              "      <td>NNP</td>\n",
              "      <td>B-geo</td>\n",
              "    </tr>\n",
              "    <tr>\n",
              "      <th>13</th>\n",
              "      <td>Sentence: 1</td>\n",
              "      <td>and</td>\n",
              "      <td>CC</td>\n",
              "      <td>O</td>\n",
              "    </tr>\n",
              "    <tr>\n",
              "      <th>14</th>\n",
              "      <td>Sentence: 1</td>\n",
              "      <td>demand</td>\n",
              "      <td>VB</td>\n",
              "      <td>O</td>\n",
              "    </tr>\n",
              "    <tr>\n",
              "      <th>15</th>\n",
              "      <td>Sentence: 1</td>\n",
              "      <td>the</td>\n",
              "      <td>DT</td>\n",
              "      <td>O</td>\n",
              "    </tr>\n",
              "    <tr>\n",
              "      <th>16</th>\n",
              "      <td>Sentence: 1</td>\n",
              "      <td>withdrawal</td>\n",
              "      <td>NN</td>\n",
              "      <td>O</td>\n",
              "    </tr>\n",
              "    <tr>\n",
              "      <th>17</th>\n",
              "      <td>Sentence: 1</td>\n",
              "      <td>of</td>\n",
              "      <td>IN</td>\n",
              "      <td>O</td>\n",
              "    </tr>\n",
              "    <tr>\n",
              "      <th>18</th>\n",
              "      <td>Sentence: 1</td>\n",
              "      <td>British</td>\n",
              "      <td>JJ</td>\n",
              "      <td>B-gpe</td>\n",
              "    </tr>\n",
              "    <tr>\n",
              "      <th>19</th>\n",
              "      <td>Sentence: 1</td>\n",
              "      <td>troops</td>\n",
              "      <td>NNS</td>\n",
              "      <td>O</td>\n",
              "    </tr>\n",
              "  </tbody>\n",
              "</table>\n",
              "</div>"
            ],
            "text/plain": [
              "     Sentence #           Word  POS    Tag\n",
              "0   Sentence: 1      Thousands  NNS      O\n",
              "1   Sentence: 1             of   IN      O\n",
              "2   Sentence: 1  demonstrators  NNS      O\n",
              "3   Sentence: 1           have  VBP      O\n",
              "4   Sentence: 1        marched  VBN      O\n",
              "5   Sentence: 1        through   IN      O\n",
              "6   Sentence: 1         London  NNP  B-geo\n",
              "7   Sentence: 1             to   TO      O\n",
              "8   Sentence: 1        protest   VB      O\n",
              "9   Sentence: 1            the   DT      O\n",
              "10  Sentence: 1            war   NN      O\n",
              "11  Sentence: 1             in   IN      O\n",
              "12  Sentence: 1           Iraq  NNP  B-geo\n",
              "13  Sentence: 1            and   CC      O\n",
              "14  Sentence: 1         demand   VB      O\n",
              "15  Sentence: 1            the   DT      O\n",
              "16  Sentence: 1     withdrawal   NN      O\n",
              "17  Sentence: 1             of   IN      O\n",
              "18  Sentence: 1        British   JJ  B-gpe\n",
              "19  Sentence: 1         troops  NNS      O"
            ]
          },
          "metadata": {
            "tags": []
          },
          "execution_count": 5
        }
      ]
    },
    {
      "cell_type": "code",
      "metadata": {
        "colab": {
          "base_uri": "https://localhost:8080/"
        },
        "id": "fZdrvX8jt2x9",
        "outputId": "2e44b61a-f396-420a-f057-59eb10516666"
      },
      "source": [
        "print('Unique words in corpus: ', df['Word'].nunique())\r\n",
        "print('Unique tags in corpus: ', df['Tag'].nunique())"
      ],
      "execution_count": 6,
      "outputs": [
        {
          "output_type": "stream",
          "text": [
            "Unique words in corpus:  35178\n",
            "Unique tags in corpus:  17\n"
          ],
          "name": "stdout"
        }
      ]
    },
    {
      "cell_type": "code",
      "metadata": {
        "id": "vXUz3Rj0uPPK"
      },
      "source": [
        "words = list(set(df['Word'].values))\r\n",
        "words.append('ENDPAD')\r\n",
        "num_words = len(words)"
      ],
      "execution_count": 7,
      "outputs": []
    },
    {
      "cell_type": "code",
      "metadata": {
        "id": "tjaLXHLMuSd6"
      },
      "source": [
        "tags = list(set(df['Tag'].values))\r\n",
        "num_tags = len(tags)"
      ],
      "execution_count": 8,
      "outputs": []
    },
    {
      "cell_type": "code",
      "metadata": {
        "colab": {
          "base_uri": "https://localhost:8080/"
        },
        "id": "dxYrknZXuTkB",
        "outputId": "50f1918a-f4e5-46c7-89d9-e15a2008c1ab"
      },
      "source": [
        "num_words, num_tags"
      ],
      "execution_count": 9,
      "outputs": [
        {
          "output_type": "execute_result",
          "data": {
            "text/plain": [
              "(35179, 17)"
            ]
          },
          "metadata": {
            "tags": []
          },
          "execution_count": 9
        }
      ]
    },
    {
      "cell_type": "markdown",
      "metadata": {
        "id": "-vNNbSinuZGx"
      },
      "source": [
        "Retrieve sentences and corresponding tags"
      ]
    },
    {
      "cell_type": "code",
      "metadata": {
        "id": "N17FuK2QuZ-i"
      },
      "source": [
        "class SentenceGetter(object):\r\n",
        "    def __init__(self, df):\r\n",
        "        self.n_sent = 1\r\n",
        "        self.df = df\r\n",
        "        agg_func = lambda s: [(w, p, t) for w, p, t in zip(s['Word'].values.tolist(),\r\n",
        "                                                          s['POS'].values.tolist(),\r\n",
        "                                                          s['Tag'].values.tolist())]\r\n",
        "        self.grouped = self.df.groupby('Sentence #').apply(agg_func)\r\n",
        "        self.sentences = [s for s in self.grouped]"
      ],
      "execution_count": 10,
      "outputs": []
    },
    {
      "cell_type": "code",
      "metadata": {
        "id": "u0IyLe6JudVI"
      },
      "source": [
        "getter = SentenceGetter(df)\r\n",
        "sentences = getter.sentences"
      ],
      "execution_count": 11,
      "outputs": []
    },
    {
      "cell_type": "code",
      "metadata": {
        "colab": {
          "base_uri": "https://localhost:8080/"
        },
        "id": "op_nEH-BuhuR",
        "outputId": "adb97014-41ef-449d-e136-f4191bb5a33d"
      },
      "source": [
        "sentences[0]"
      ],
      "execution_count": 12,
      "outputs": [
        {
          "output_type": "execute_result",
          "data": {
            "text/plain": [
              "[('Thousands', 'NNS', 'O'),\n",
              " ('of', 'IN', 'O'),\n",
              " ('demonstrators', 'NNS', 'O'),\n",
              " ('have', 'VBP', 'O'),\n",
              " ('marched', 'VBN', 'O'),\n",
              " ('through', 'IN', 'O'),\n",
              " ('London', 'NNP', 'B-geo'),\n",
              " ('to', 'TO', 'O'),\n",
              " ('protest', 'VB', 'O'),\n",
              " ('the', 'DT', 'O'),\n",
              " ('war', 'NN', 'O'),\n",
              " ('in', 'IN', 'O'),\n",
              " ('Iraq', 'NNP', 'B-geo'),\n",
              " ('and', 'CC', 'O'),\n",
              " ('demand', 'VB', 'O'),\n",
              " ('the', 'DT', 'O'),\n",
              " ('withdrawal', 'NN', 'O'),\n",
              " ('of', 'IN', 'O'),\n",
              " ('British', 'JJ', 'B-gpe'),\n",
              " ('troops', 'NNS', 'O'),\n",
              " ('from', 'IN', 'O'),\n",
              " ('that', 'DT', 'O'),\n",
              " ('country', 'NN', 'O'),\n",
              " ('.', '.', 'O')]"
            ]
          },
          "metadata": {
            "tags": []
          },
          "execution_count": 12
        }
      ]
    },
    {
      "cell_type": "markdown",
      "metadata": {
        "id": "mxETmV0mukiw"
      },
      "source": [
        "\r\n",
        "Define mappings between sentences and tags"
      ]
    },
    {
      "cell_type": "code",
      "metadata": {
        "id": "kuvbQhx4ulZ2"
      },
      "source": [
        "word2idx = {w: i+1 for i, w in enumerate(words)}\r\n",
        "tag2idx = {t: i for i, t in enumerate(tags)}"
      ],
      "execution_count": 13,
      "outputs": []
    },
    {
      "cell_type": "markdown",
      "metadata": {
        "id": "U-KHVOCVuqOD"
      },
      "source": [
        "Padding input sentences and creating train/test split¶"
      ]
    },
    {
      "cell_type": "code",
      "metadata": {
        "colab": {
          "base_uri": "https://localhost:8080/",
          "height": 265
        },
        "id": "Mchsd3pHun9U",
        "outputId": "07084739-71a3-44c3-c558-24c873c256ba"
      },
      "source": [
        "plt.hist([len(s) for s in sentences], bins=50)\r\n",
        "plt.show();"
      ],
      "execution_count": 14,
      "outputs": [
        {
          "output_type": "display_data",
          "data": {
            "image/png": "[encoded data removed]",
            "text/plain": [
              "<Figure size 432x288 with 1 Axes>"
            ]
          },
          "metadata": {
            "tags": [],
            "needs_background": "light"
          }
        }
      ]
    },
    {
      "cell_type": "code",
      "metadata": {
        "id": "BN5cdZTlusYd"
      },
      "source": [
        "from tensorflow.keras.preprocessing.sequence import pad_sequences\r\n",
        "from tensorflow.keras.utils import to_categorical\r\n",
        "\r\n",
        "max_len = 50\r\n",
        "X = [[word2idx[w[0]] for w in s] for s in sentences]\r\n",
        "X = pad_sequences(maxlen = max_len, sequences = X, padding='post', value=num_words-1)\r\n",
        "\r\n",
        "y = [[tag2idx[w[2]] for w in s] for s in sentences]\r\n",
        "y = pad_sequences(maxlen = max_len, sequences = y, padding = 'post', value = tag2idx['O'])\r\n",
        "y = [to_categorical(i, num_classes=num_tags) for i in y]"
      ],
      "execution_count": 15,
      "outputs": []
    },
    {
      "cell_type": "code",
      "metadata": {
        "id": "tL-3O7pcuvff"
      },
      "source": [
        "from sklearn.model_selection import train_test_split\r\n",
        "\r\n",
        "x_train, x_test, y_train, y_test = train_test_split(X, y, test_size=0.1, random_state=1)"
      ],
      "execution_count": 16,
      "outputs": []
    },
    {
      "cell_type": "code",
      "metadata": {
        "colab": {
          "base_uri": "https://localhost:8080/"
        },
        "id": "ln4jzjuD0oy1",
        "outputId": "c4e768bd-5a0f-40f8-9897-6427b0c20655"
      },
      "source": [
        "input_word = Input(shape=(max_len, ))\r\n",
        "model = Embedding(input_dim = num_words, output_dim = max_len, input_length = max_len)(input_word)\r\n",
        "model = SpatialDropout1D(0.1)(model)\r\n",
        "model = LSTM(units=100, return_sequences=True, recurrent_dropout=0.1)(model)\r\n",
        "out = TimeDistributed(Dense(num_tags, activation='softmax'))(model)\r\n",
        "model = Model(input_word, out)\r\n",
        "model.compile(optimizer='adam', loss='categorical_crossentropy', metrics=['accuracy'])\r\n",
        "model.summary()\r\n"
      ],
      "execution_count": 29,
      "outputs": [
        {
          "output_type": "stream",
          "text": [
            "Model: \"model_2\"\n",
            "_________________________________________________________________\n",
            "Layer (type)                 Output Shape              Param #   \n",
            "=================================================================\n",
            "input_3 (InputLayer)         [(None, 50)]              0         \n",
            "_________________________________________________________________\n",
            "embedding_2 (Embedding)      (None, 50, 50)            1758950   \n",
            "_________________________________________________________________\n",
            "spatial_dropout1d_2 (Spatial (None, 50, 50)            0         \n",
            "_________________________________________________________________\n",
            "lstm_2 (LSTM)                (None, 50, 100)           60400     \n",
            "_________________________________________________________________\n",
            "time_distributed_2 (TimeDist (None, 50, 17)            1717      \n",
            "=================================================================\n",
            "Total params: 1,821,067\n",
            "Trainable params: 1,821,067\n",
            "Non-trainable params: 0\n",
            "_________________________________________________________________\n"
          ],
          "name": "stdout"
        }
      ]
    },
    {
      "cell_type": "code",
      "metadata": {
        "colab": {
          "base_uri": "https://localhost:8080/"
        },
        "id": "Crf8ccDS0o_y",
        "outputId": "8b510165-3bdb-42fb-f0b3-f710b5966dc5"
      },
      "source": [
        "history1 = model.fit(\r\n",
        "    x_train, np.array(y_train),\r\n",
        "    validation_split=0.2,\r\n",
        "    batch_size = 32,\r\n",
        "    epochs = 3,\r\n",
        "    verbose = 1,\r\n",
        "#    callbacks = callbacks\r\n",
        ")"
      ],
      "execution_count": 30,
      "outputs": [
        {
          "output_type": "stream",
          "text": [
            "Epoch 1/3\n",
            "1080/1080 [==============================] - 119s 108ms/step - loss: 0.4662 - accuracy: 0.9312 - val_loss: 0.1194 - val_accuracy: 0.9675\n",
            "Epoch 2/3\n",
            "1080/1080 [==============================] - 119s 110ms/step - loss: 0.0964 - accuracy: 0.9747 - val_loss: 0.0657 - val_accuracy: 0.9815\n",
            "Epoch 3/3\n",
            "1080/1080 [==============================] - 119s 110ms/step - loss: 0.0533 - accuracy: 0.9845 - val_loss: 0.0569 - val_accuracy: 0.9829\n"
          ],
          "name": "stdout"
        }
      ]
    },
    {
      "cell_type": "markdown",
      "metadata": {
        "id": "kEj30uiru0DJ"
      },
      "source": [
        "Build and compile a Bidirectional LSTM model"
      ]
    },
    {
      "cell_type": "code",
      "metadata": {
        "id": "ecpe4jPXu0ut"
      },
      "source": [
        "from tensorflow.keras import Model, Input\r\n",
        "from tensorflow.keras.layers import LSTM, Embedding, Dense\r\n",
        "from tensorflow.keras.layers import TimeDistributed, SpatialDropout1D, Bidirectional"
      ],
      "execution_count": 17,
      "outputs": []
    },
    {
      "cell_type": "code",
      "metadata": {
        "colab": {
          "base_uri": "https://localhost:8080/"
        },
        "id": "wVxrrYsUu5-0",
        "outputId": "e6c04a05-f594-4701-810a-75faf99b041c"
      },
      "source": [
        "input_word = Input(shape=(max_len, ))\r\n",
        "model = Embedding(input_dim = num_words, output_dim = max_len, input_length = max_len)(input_word)\r\n",
        "model = SpatialDropout1D(0.1)(model)\r\n",
        "model = Bidirectional(LSTM(units=100, return_sequences=True, recurrent_dropout=0.1))(model)\r\n",
        "out = TimeDistributed(Dense(num_tags, activation='softmax'))(model)\r\n",
        "model = Model(input_word, out)\r\n",
        "model.summary()"
      ],
      "execution_count": 18,
      "outputs": [
        {
          "output_type": "stream",
          "text": [
            "Model: \"model\"\n",
            "_________________________________________________________________\n",
            "Layer (type)                 Output Shape              Param #   \n",
            "=================================================================\n",
            "input_1 (InputLayer)         [(None, 50)]              0         \n",
            "_________________________________________________________________\n",
            "embedding (Embedding)        (None, 50, 50)            1758950   \n",
            "_________________________________________________________________\n",
            "spatial_dropout1d (SpatialDr (None, 50, 50)            0         \n",
            "_________________________________________________________________\n",
            "bidirectional (Bidirectional (None, 50, 200)           120800    \n",
            "_________________________________________________________________\n",
            "time_distributed (TimeDistri (None, 50, 17)            3417      \n",
            "=================================================================\n",
            "Total params: 1,883,167\n",
            "Trainable params: 1,883,167\n",
            "Non-trainable params: 0\n",
            "_________________________________________________________________\n"
          ],
          "name": "stdout"
        }
      ]
    },
    {
      "cell_type": "code",
      "metadata": {
        "id": "TaycCLJmu9Cz"
      },
      "source": [
        "model.compile(optimizer='adam', loss='categorical_crossentropy', metrics=['accuracy'])"
      ],
      "execution_count": 19,
      "outputs": []
    },
    {
      "cell_type": "markdown",
      "metadata": {
        "id": "2UN3MSoau_nE"
      },
      "source": [
        "Train the model"
      ]
    },
    {
      "cell_type": "code",
      "metadata": {
        "id": "MKlcX7DFvAEV"
      },
      "source": [
        "from tensorflow.keras.callbacks import ModelCheckpoint, EarlyStopping\r\n",
        "from livelossplot.tf_keras import PlotLossesCallback"
      ],
      "execution_count": null,
      "outputs": []
    },
    {
      "cell_type": "code",
      "metadata": {
        "colab": {
          "base_uri": "https://localhost:8080/"
        },
        "id": "69GFpf-DvC3h",
        "outputId": "c0f24105-20ba-41b8-ca8d-49d497ed01c3"
      },
      "source": [
        "#early_stopping = EarlyStopping(monitor='val_accuracy', patience=1, verbose=0, mode='max', restore_best_weights=False)\r\n",
        "#callbacks = [PlotLossesCallback(), early_stopping]\r\n",
        "\r\n",
        "history = model.fit(\r\n",
        "    x_train, np.array(y_train),\r\n",
        "    validation_split=0.2,\r\n",
        "    batch_size = 32,\r\n",
        "    epochs = 3,\r\n",
        "    verbose = 1,\r\n",
        "#    callbacks = callbacks\r\n",
        ")"
      ],
      "execution_count": 20,
      "outputs": [
        {
          "output_type": "stream",
          "text": [
            "Epoch 1/3\n",
            "1080/1080 [==============================] - 220s 197ms/step - loss: 0.3883 - accuracy: 0.9345 - val_loss: 0.0668 - val_accuracy: 0.9805\n",
            "Epoch 2/3\n",
            "1080/1080 [==============================] - 214s 198ms/step - loss: 0.0559 - accuracy: 0.9837 - val_loss: 0.0498 - val_accuracy: 0.9848\n",
            "Epoch 3/3\n",
            "1080/1080 [==============================] - 213s 198ms/step - loss: 0.0379 - accuracy: 0.9885 - val_loss: 0.0473 - val_accuracy: 0.9855\n"
          ],
          "name": "stdout"
        }
      ]
    },
    {
      "cell_type": "markdown",
      "metadata": {
        "id": "_tNEFisDvS1C"
      },
      "source": [
        "Evaluate Named Entity Recognition model"
      ]
    },
    {
      "cell_type": "code",
      "metadata": {
        "colab": {
          "base_uri": "https://localhost:8080/",
          "height": 545
        },
        "id": "bNeBmV37vRmS",
        "outputId": "a63df41e-c01c-4169-ccb2-9583c8ec15af"
      },
      "source": [
        "def plot_graph(history, string):\r\n",
        "  plt.plot(history.history[string])\r\n",
        "  plt.plot(history.history['val_'+string])\r\n",
        "  plt.xlabel('epochs')\r\n",
        "  plt.ylabel(string)\r\n",
        "  plt.legend([string, 'val_'+string])\r\n",
        "  plt.show()\r\n",
        "\r\n",
        "plot_graph(history, 'accuracy')\r\n",
        "plot_graph(history, 'loss')"
      ],
      "execution_count": 25,
      "outputs": [
        {
          "output_type": "display_data",
          "data": {
            "image/png": "[encoded data removed]",
            "text/plain": [
              "<Figure size 432x288 with 1 Axes>"
            ]
          },
          "metadata": {
            "tags": [],
            "needs_background": "light"
          }
        },
        {
          "output_type": "display_data",
          "data": {
            "image/png": "[encoded data removed]",
            "text/plain": [
              "<Figure size 432x288 with 1 Axes>"
            ]
          },
          "metadata": {
            "tags": [],
            "needs_background": "light"
          }
        }
      ]
    },
    {
      "cell_type": "code",
      "metadata": {
        "colab": {
          "base_uri": "https://localhost:8080/"
        },
        "id": "akO4GGXQ0OXP",
        "outputId": "6710768a-a363-4db7-981b-1bbe1718f6c3"
      },
      "source": [
        "model.evaluate(x_test, np.array(y_test))"
      ],
      "execution_count": 33,
      "outputs": [
        {
          "output_type": "stream",
          "text": [
            "150/150 [==============================] - 2s 15ms/step - loss: 0.0590 - accuracy: 0.9827\n"
          ],
          "name": "stdout"
        },
        {
          "output_type": "execute_result",
          "data": {
            "text/plain": [
              "[0.05902648717164993, 0.9827398061752319]"
            ]
          },
          "metadata": {
            "tags": []
          },
          "execution_count": 33
        }
      ]
    },
    {
      "cell_type": "code",
      "metadata": {
        "id": "s0ET5UZc3KE5"
      },
      "source": [
        ""
      ],
      "execution_count": 46,
      "outputs": []
    },
    {
      "cell_type": "code",
      "metadata": {
        "colab": {
          "base_uri": "https://localhost:8080/"
        },
        "id": "tgeRcA6m1SCP",
        "outputId": "aa76e0c8-8205-47c5-f3fa-9b27eb7bdf87"
      },
      "source": [
        "i = np.random.randint(0, x_test.shape[0])\r\n",
        "p = model.predict(np.array([x_test[i]]))\r\n",
        "p = np.argmax(p, axis=-1)\r\n",
        "y_true = np.argmax(np.array(y_test), axis=-1)[i]\r\n",
        "\r\n",
        "\r\n",
        "print('{:15}{:5}\\t {}\\n'.format('Word', 'True', 'Pred'))\r\n",
        "print('-'*30)\r\n",
        "for w, true, pred in zip(x_test[i], y_true, p[0]):\r\n",
        "    print('{:15}{}\\t{}'.format(words[w-1], tags[true], tags[pred]))"
      ],
      "execution_count": 44,
      "outputs": [
        {
          "output_type": "stream",
          "text": [
            "Word           True \t Pred\n",
            "\n",
            "------------------------------\n",
            "Meanwhile      O\tO\n",
            ",              O\tO\n",
            "U.N.           B-org\tB-org\n",
            "Secretary-GeneralI-org\tI-org\n",
            "Kofi           B-per\tB-per\n",
            "Annan          I-per\tI-per\n",
            "is             O\tO\n",
            "expected       O\tO\n",
            "to             O\tO\n",
            "attend         O\tO\n",
            "a              O\tO\n",
            "donors         O\tO\n",
            "meeting        O\tO\n",
            "in             O\tO\n",
            "Islamabad      B-geo\tB-geo\n",
            "on             O\tO\n",
            "November       B-tim\tB-tim\n",
            "19             I-tim\tI-tim\n",
            "to             O\tO\n",
            "raise          O\tO\n",
            "funds          O\tO\n",
            "for            O\tO\n",
            "rebuilding     O\tO\n",
            "earthquake-hit O\tO\n",
            "areas          O\tO\n",
            ".              O\tO\n",
            "conservative-dominatedO\tO\n",
            "conservative-dominatedO\tO\n",
            "conservative-dominatedO\tO\n",
            "conservative-dominatedO\tO\n",
            "conservative-dominatedO\tO\n",
            "conservative-dominatedO\tO\n",
            "conservative-dominatedO\tO\n",
            "conservative-dominatedO\tO\n",
            "conservative-dominatedO\tO\n",
            "conservative-dominatedO\tO\n",
            "conservative-dominatedO\tO\n",
            "conservative-dominatedO\tO\n",
            "conservative-dominatedO\tO\n",
            "conservative-dominatedO\tO\n",
            "conservative-dominatedO\tO\n",
            "conservative-dominatedO\tO\n",
            "conservative-dominatedO\tO\n",
            "conservative-dominatedO\tO\n",
            "conservative-dominatedO\tO\n",
            "conservative-dominatedO\tO\n",
            "conservative-dominatedO\tO\n",
            "conservative-dominatedO\tO\n",
            "conservative-dominatedO\tO\n",
            "conservative-dominatedO\tO\n"
          ],
          "name": "stdout"
        }
      ]
    },
    {
      "cell_type": "code",
      "metadata": {
        "id": "jF4QVcNM35qa"
      },
      "source": [
        ""
      ],
      "execution_count": null,
      "outputs": []
    }
  ]
}